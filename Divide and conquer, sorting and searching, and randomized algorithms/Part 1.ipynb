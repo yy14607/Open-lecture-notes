{
 "cells": [
  {
   "cell_type": "markdown",
   "metadata": {},
   "source": [
    "## Divide and conquer, sort and search, and randomized algorithms\n",
    "\n",
    "\n"
   ]
  },
  {
   "cell_type": "markdown",
   "metadata": {},
   "source": [
    "### Introduction\n"
   ]
  },
  {
   "cell_type": "markdown",
   "metadata": {},
   "source": [
    "__Integer multiplcation: Karatsuba multiplication__\n",
    "\n",
    "Example: x = 1234, y = 5678. Let a = 12, b = 34, c = 56, d = 78\n",
    "\n",
    "Step 1: compute $a\\cdot c = 672$\n",
    "\n",
    "Step 2: compute $b \\cdot d = 2652$\n",
    "\n",
    "Step 3: compute $(a+b) \\cdot (c+d) = 6164$\n",
    "\n",
    "Step 4: compute $(3) - (2) - (1) = 2840$\n",
    "\n",
    "Step 5: $(1)\\times 10^4 + (2) + (3) \\times 10^2 = 7006652$ is final answer\n",
    "\n",
    "__More generally: a recursive algorithm__\n",
    "\n",
    "write $x = 10^{n/2}a + b, y = 10^{n/2}c+d$ where $a,b,c,d$ are $n/2$ digit numbers, then we have\n",
    "$$y\\cdot y = 10^{n} ac + 10^{n/2}(ad+bc) + bd$$.\n",
    "\n",
    "Step 1: recursively compute $ac$\n",
    "\n",
    "Step 2: recursively compute $bd$\n",
    "\n",
    "Step 3: recursively compute $(a+b) \\cdot (c+d)$\n",
    "\n",
    "Step 4: compute $(3) - (2) - (1) = ad+bc$\n",
    "\n",
    "Upshot: only need three recursive multiplcations plus some additions\n"
   ]
  },
  {
   "cell_type": "code",
   "execution_count": 10,
   "metadata": {},
   "outputs": [],
   "source": [
    "def karat(x,y):\n",
    "    if len(str(x)) == 1 or len(str(y)) == 1:\n",
    "        return x*y\n",
    "    else:\n",
    "        m = max(len(str(x)),len(str(y)))\n",
    "        m2 = m // 2\n",
    "\n",
    "        a = x // 10**(m2)\n",
    "        b = x % 10**(m2)\n",
    "        c = y // 10**(m2)\n",
    "        d = y % 10**(m2)\n",
    "\n",
    "        z0 = karat(b,d)\n",
    "        z1 = karat((a+b),(c+d))\n",
    "        z2 = karat(a,c)\n",
    "\n",
    "        return (z2 * 10**(2*m2)) + ((z1 - z2 - z0) * 10**(m2)) + (z0)"
   ]
  },
  {
   "cell_type": "code",
   "execution_count": 11,
   "metadata": {},
   "outputs": [
    {
     "name": "stdout",
     "output_type": "stream",
     "text": [
      "7006652\n"
     ]
    }
   ],
   "source": [
    " print(karat(1234,5678))"
   ]
  },
  {
   "cell_type": "code",
   "execution_count": null,
   "metadata": {},
   "outputs": [],
   "source": []
  },
  {
   "cell_type": "code",
   "execution_count": null,
   "metadata": {},
   "outputs": [],
   "source": []
  }
 ],
 "metadata": {
  "kernelspec": {
   "display_name": "Python 3",
   "language": "python",
   "name": "python3"
  },
  "language_info": {
   "codemirror_mode": {
    "name": "ipython",
    "version": 3
   },
   "file_extension": ".py",
   "mimetype": "text/x-python",
   "name": "python",
   "nbconvert_exporter": "python",
   "pygments_lexer": "ipython3",
   "version": "3.7.4"
  }
 },
 "nbformat": 4,
 "nbformat_minor": 2
}
